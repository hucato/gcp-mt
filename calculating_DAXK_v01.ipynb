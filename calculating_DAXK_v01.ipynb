{
 "cells": [
  {
   "cell_type": "code",
   "execution_count": 146,
   "id": "d826ccdd",
   "metadata": {},
   "outputs": [],
   "source": [
    "import pandas as pd\n",
    "import numpy as np\n",
    "from datetime import timedelta, date"
   ]
  },
  {
   "cell_type": "code",
   "execution_count": 147,
   "id": "f2150718",
   "metadata": {},
   "outputs": [],
   "source": [
    "np.set_printoptions(precision=8)\n",
    "pd.set_option(\"display.precision\", 8)"
   ]
  },
  {
   "cell_type": "markdown",
   "id": "eafac87a",
   "metadata": {},
   "source": [
    "# TODO: add new prices from pit_chaining to pit, to only have one price file"
   ]
  },
  {
   "cell_type": "code",
   "execution_count": 182,
   "id": "4a8cbc94",
   "metadata": {},
   "outputs": [],
   "source": [
    "# load data from master file\n",
    "xls = pd.ExcelFile('daxk_data.xlsx')\n",
    "isin_matrix = pd.read_excel(xls, 'isin_matrix')\n",
    "pit = pd.read_excel(xls, 'pit')\n",
    "qit = pd.read_excel(xls, 'qit_off')\n",
    "ffit = pd.read_excel(xls, 'ffit_off')\n",
    "ci = pd.read_excel(xls, 'ci_off_quarterly')\n",
    "ci_monthly = pd.read_excel(xls, 'ci_off_monthly')\n",
    "pi0 = pd.read_excel(xls, 'pi0_off')\n",
    "qi0 = pd.read_excel(xls, 'qi0_off')\n",
    "kt = pd.read_excel(xls, 'kt_off')\n",
    "daxk = pd.read_excel(xls, 'daxk')\n",
    "# ticker_matrix = pd.read_excel(xls, 'ticker_matrix')\n",
    "pit_chaining = pd.read_excel(xls, 'pit_chaining')"
   ]
  },
  {
   "cell_type": "code",
   "execution_count": 183,
   "id": "bdfb9e37",
   "metadata": {},
   "outputs": [],
   "source": [
    "# load output from sentiment analysis aka ticker matrix\n",
    "ticker_matrix = pd.read_csv('ticker_matrix_full.csv')"
   ]
  },
  {
   "cell_type": "code",
   "execution_count": 184,
   "id": "610b428c",
   "metadata": {},
   "outputs": [
    {
     "data": {
      "text/plain": [
       "True"
      ]
     },
     "execution_count": 184,
     "metadata": {},
     "output_type": "execute_result"
    }
   ],
   "source": [
    "# check for equal length\n",
    "pi0.shape[0] == qi0.shape[0] == kt.shape[0] == daxk.shape[0] == ci.shape[0] == \\\n",
    "ffit.shape[0] == isin_matrix.shape[0] == qit.shape[0] == pit.shape[0]"
   ]
  },
  {
   "cell_type": "code",
   "execution_count": 185,
   "id": "d42d3449",
   "metadata": {},
   "outputs": [],
   "source": [
    "daxk_tw = daxk.copy() # to later check for rb dates\n",
    "cim = ci.copy()\n",
    "daxk_tw['date'] = pd.to_datetime(daxk_tw['date'])\n",
    "daxk_tw.set_index(daxk_tw.columns[0], inplace=True)"
   ]
  },
  {
   "cell_type": "code",
   "execution_count": 186,
   "id": "86b81549",
   "metadata": {},
   "outputs": [],
   "source": [
    "# change index to date\n",
    "\n",
    "dfs = [isin_matrix, qit, ffit, ci, ci_monthly, pi0, qi0, kt, daxk, pit, pit_chaining, ticker_matrix, cim]\n",
    "for df in dfs:\n",
    "    #df['date'] = pd.to_datetime(df['date'])\n",
    "    #df.set_index(df.columns[0], inplace=True)\n",
    "    df.drop(columns=df.columns[0], axis=1, inplace=True)\n",
    "    df.fillna(0, inplace=True)"
   ]
  },
  {
   "cell_type": "code",
   "execution_count": 187,
   "id": "9ed02841",
   "metadata": {},
   "outputs": [],
   "source": [
    "# set index base to 1000\n",
    "daxk[\"base\"] = 1000"
   ]
  },
  {
   "cell_type": "code",
   "execution_count": 188,
   "id": "671adfef",
   "metadata": {},
   "outputs": [],
   "source": [
    "daxk[\"kt\"] = kt[\"kt_off\"]"
   ]
  },
  {
   "cell_type": "markdown",
   "id": "c3625ddd",
   "metadata": {},
   "source": [
    "# Check deviation"
   ]
  },
  {
   "cell_type": "code",
   "execution_count": 189,
   "id": "78b375ec",
   "metadata": {},
   "outputs": [],
   "source": [
    "daxk[\"bottom\"] = (isin_matrix*pi0*qi0).sum(axis=1)"
   ]
  },
  {
   "cell_type": "code",
   "execution_count": 190,
   "id": "ec7b0839",
   "metadata": {},
   "outputs": [],
   "source": [
    "daxk[\"top\"] = (isin_matrix*pit*qit*ffit*ci).sum(axis=1)"
   ]
  },
  {
   "cell_type": "code",
   "execution_count": 191,
   "id": "b0cbc56d",
   "metadata": {},
   "outputs": [],
   "source": [
    "daxk[\"daxk_calculated\"] = ((daxk[\"top\"]/daxk[\"bottom\"])*daxk[\"base\"]*daxk[\"kt\"]).round(2)\n",
    "# exact values calculated\n",
    "# daxk[\"daxk_calculated\"] = (daxk[\"top\"]/daxk[\"bottom\"])*base*daxk[\"kt\"]"
   ]
  },
  {
   "cell_type": "code",
   "execution_count": 192,
   "id": "ada5f20f",
   "metadata": {},
   "outputs": [],
   "source": [
    "daxk[\"deviation\"] = daxk[\"daxk_calculated\"]-daxk[\"daxk\"]"
   ]
  },
  {
   "cell_type": "code",
   "execution_count": 193,
   "id": "74eeb381",
   "metadata": {},
   "outputs": [
    {
     "data": {
      "text/plain": [
       "0.020000000000436557"
      ]
     },
     "execution_count": 193,
     "metadata": {},
     "output_type": "execute_result"
    }
   ],
   "source": [
    "# max abs deviation\n",
    "abs(daxk[\"deviation\"]).max()"
   ]
  },
  {
   "cell_type": "code",
   "execution_count": 194,
   "id": "a0791d96",
   "metadata": {},
   "outputs": [
    {
     "data": {
      "text/plain": [
       "0.00036277602533273557"
      ]
     },
     "execution_count": 194,
     "metadata": {},
     "output_type": "execute_result"
    }
   ],
   "source": [
    "# mean abs deviation\n",
    "abs(daxk[\"deviation\"]).mean()"
   ]
  },
  {
   "cell_type": "code",
   "execution_count": 195,
   "id": "cd15e3be",
   "metadata": {},
   "outputs": [],
   "source": [
    "# generate 3rd Friday each month\n",
    "friday3_list = pd.date_range('2016-01-01','2021-12-31',freq='WOM-3FRI').format()\n",
    "friday3_df = pd.DataFrame(friday3_list, columns=[\"date\"])"
   ]
  },
  {
   "cell_type": "code",
   "execution_count": 196,
   "id": "190bf06e",
   "metadata": {},
   "outputs": [],
   "source": [
    "friday3_df.date[39] = \"2019-04-23\"\n",
    "# friday3_df.date[39]"
   ]
  },
  {
   "cell_type": "code",
   "execution_count": 197,
   "id": "a3f680ed",
   "metadata": {},
   "outputs": [],
   "source": [
    "xls = pd.ExcelFile('daxk_data.xlsx')\n",
    "daxk_rb = pd.read_excel(xls, 'daxk_rb')\n",
    "daxk_rb['date'] = pd.to_datetime(daxk_rb['date'])\n",
    "daxk_rb.set_index(daxk_rb.columns[0], inplace=True)"
   ]
  },
  {
   "cell_type": "code",
   "execution_count": 198,
   "id": "f31ccb76",
   "metadata": {},
   "outputs": [],
   "source": [
    "friday3_df[\"rb\"] = True\n",
    "friday3_df['date'] = pd.to_datetime(friday3_df['date'])\n",
    "friday3_df.set_index(friday3_df.columns[0], inplace=True)"
   ]
  },
  {
   "cell_type": "code",
   "execution_count": 199,
   "id": "50f984e0",
   "metadata": {},
   "outputs": [],
   "source": [
    "# friday3_df[\"daxk_rb\"] = daxk_rb[\"daxk_rb\"]\n",
    "friday3_df = pd.merge(friday3_df, daxk_rb,on='date', how='left') #on='date', \n",
    "friday3_df.fillna(False, inplace=True)"
   ]
  },
  {
   "cell_type": "code",
   "execution_count": 200,
   "id": "a61ec0ef",
   "metadata": {},
   "outputs": [],
   "source": [
    "# # 19.04.2019 not a trading day, \"Karfreitag\", now moved to next weekday, which is Tuesday\n",
    "# friday3_df[friday3_list.index(\"2019-04-19\")] = '2019-04-23'\n",
    "# friday3_df.loc[friday3_df['date']=='2019-04-19']"
   ]
  },
  {
   "cell_type": "code",
   "execution_count": 201,
   "id": "7d93b433",
   "metadata": {},
   "outputs": [],
   "source": [
    "daxk_tw = pd.merge(daxk_tw, friday3_df,on='date', how='left') #on='date', \n",
    "daxk_tw['rb'].fillna(False, inplace=True)\n",
    "daxk_tw['daxk_rb_regular'].fillna(False, inplace=True)"
   ]
  },
  {
   "cell_type": "code",
   "execution_count": 202,
   "id": "b4885b76",
   "metadata": {},
   "outputs": [],
   "source": [
    "# tbd, maybe add automatic ci calculation for monthly rebalancing?"
   ]
  },
  {
   "cell_type": "code",
   "execution_count": 203,
   "id": "4e9ee171",
   "metadata": {},
   "outputs": [],
   "source": [
    "# calculate kt\n",
    "\n",
    "# chaining factor is calculated as \n",
    "# isin * pit_chaining * ffit_chaining * qit_chaining divided by new bottom value and multiplied by base\n",
    "# this over the index close on the same day\n",
    "\n",
    "# need to calculate \"2\" indices, one until and including chaining date to be used for kt calculation\n",
    "\n",
    "# need bottom +1d (multiplied by matrix +1d, i.e. same day)\n",
    "# base (no change)\n",
    "\n",
    "# for top:\n",
    "# matrix +1d (need to be in format as daxk data, with ticker on top in same place and same dates)\n",
    "\n",
    "# pit from chaining day (only for companies included but matrix should take care of this) (multiplied by matrix +1d)\n",
    "# needs to be pit off chaining with prices for new index memmbers\n",
    "\n",
    "# ffit +1d (multiplied by matrix +1d, i.e. same day)\n",
    "# qit +1d (multiplied by matrix +1d, i.e. same day) \n",
    "\n",
    "# calculation days for kt need to be chaining days + days where kt is changed as per data\n",
    "\n",
    "# simple for loop with if condition, looping through all trading days, calculating kt on \"kt days\"\n",
    "# kt: DBOE new isin, Wirecard, Vitesco/Conti"
   ]
  },
  {
   "cell_type": "code",
   "execution_count": 204,
   "id": "f84aa69c",
   "metadata": {},
   "outputs": [],
   "source": [
    "# ticker_matrix = pd.read_csv(\"ticker_matrix_full.csv\")\n",
    "# # ticker_matrix['date'] = pd.to_datetime(ticker_matrix['date'])\n",
    "# # ticker_matrix.set_index(ticker_matrix.columns[0], inplace=True)\n",
    "# ticker_matrix.drop(columns=ticker_matrix.columns[0], axis=1, inplace=True)\n",
    "# ticker_matrix.fillna(0, inplace=True)"
   ]
  },
  {
   "cell_type": "code",
   "execution_count": 205,
   "id": "e423399f",
   "metadata": {},
   "outputs": [],
   "source": [
    "daxk[\"kt_loop\"] = daxk[\"kt\"]\n",
    "# try to use .loc \n",
    "for t in range(1,len(daxk)):\n",
    "    daxk.loc[t,\"daxk_loop\"] = ((isin_matrix.loc[t]*pit.loc[t]*qit.loc[t]*ffit.loc[t]*ci.loc[t]).sum()/\n",
    "                               (isin_matrix.loc[t]*pi0.loc[t]*qi0.loc[t]).sum()*\n",
    "                               daxk[\"base\"].loc[t]*daxk[\"kt\"].loc[t])\n",
    "    daxk.loc[t,\"kt_loop\"] = daxk.loc[(t-1),\"kt_loop\"]\n",
    "    if daxk_tw.daxk_rb_regular[t] and t < 1267:\n",
    "        daxk.loc[t,\"rb_index\"] = ((isin_matrix.loc[t+1]*pit_chaining.loc[t]*qit.loc[t+1]*ffit.loc[t+1]).sum()/\n",
    "                                  (isin_matrix.loc[t+1]*pi0.loc[t+1]*qi0.loc[t+1]).sum()*\n",
    "                                  daxk[\"base\"].loc[t+1])\n",
    "        daxk.loc[t,\"rb_top\"] = (isin_matrix.loc[t+1]*pit_chaining.loc[t]*qit.loc[t+1]*ffit.loc[t+1]).sum()\n",
    "        daxk.loc[t,\"rb_bottom\"] = (isin_matrix.loc[t+1]*pi0.loc[t+1]*qi0.loc[t+1]).sum()\n",
    "        daxk.loc[t,\"kt_loop\"] = daxk.loc[t,\"daxk_loop\"]/daxk.loc[t,\"rb_index\"] \n",
    "for t in range(1,len(daxk)):\n",
    "    if daxk_tw.daxk_rb_regular[t] and t < 1267:\n",
    "        daxk.loc[t,\"kt_loop\"] = daxk.loc[(t-1),\"kt_loop\"] # offset kt by one day"
   ]
  },
  {
   "cell_type": "code",
   "execution_count": 206,
   "id": "2a19b905",
   "metadata": {},
   "outputs": [],
   "source": [
    "daxk[\"kt_tw\"] = daxk[\"kt\"]\n",
    "# try to use .loc \n",
    "for t in range(1,len(daxk)):\n",
    "    daxk.loc[t,\"kt_tw\"] = daxk.loc[(t-1),\"kt_tw\"]\n",
    "    daxk.loc[t,\"daxk_tw\"] = ((ticker_matrix.loc[t]*isin_matrix.loc[t]*pit.loc[t]*qit.loc[t]*ffit.loc[t]*ci_monthly.loc[t]).sum()/\n",
    "                               (ticker_matrix.loc[t]*isin_matrix.loc[t]*pi0.loc[t]*qi0.loc[t]).sum()*\n",
    "                               daxk[\"base\"].loc[t]*daxk[\"kt_tw\"].loc[t])\n",
    "    if daxk_tw.rb[t] and t < 1267:\n",
    "        daxk.loc[t,\"rb_index_tw\"] = ((ticker_matrix.loc[t+1]*isin_matrix.loc[t+1]*pit_chaining.loc[t]*qit.loc[t+1]*ffit.loc[t+1]).sum()/\n",
    "                                  (ticker_matrix.loc[t+1]*isin_matrix.loc[t+1]*pi0.loc[t+1]*qi0.loc[t+1]).sum()*\n",
    "                                  daxk[\"base\"].loc[t+1])\n",
    "        #daxk.loc[t,\"rb_top\"] = (isin_matrix.loc[t+1]*pit_chaining.loc[t]*qit.loc[t+1]*ffit.loc[t+1]).sum()\n",
    "        #daxk.loc[t,\"rb_bottom\"] = (isin_matrix.loc[t+1]*pi0.loc[t+1]*qi0.loc[t+1]).sum()\n",
    "        daxk.loc[t,\"kt_tw\"] = daxk.loc[t,\"daxk_tw\"]/daxk.loc[t,\"rb_index_tw\"] \n",
    "for t in range(1,len(daxk)):\n",
    "    if daxk_tw.rb[t] and t < 1267:\n",
    "        daxk.loc[t,\"kt_tw\"] = daxk.loc[(t-1),\"kt_tw\"] # offset kt by one day"
   ]
  },
  {
   "cell_type": "code",
   "execution_count": 207,
   "id": "04fb1f01",
   "metadata": {},
   "outputs": [],
   "source": [
    "# # cim = ci\n",
    "# cim.equals(ci)\n",
    "# # want cim = ci_monthly\n",
    "# cim.equals(ci_monthly)\n",
    "# cim.set_index(daxk_tw.index.strftime('%Y-%m-%d'), inplace=True)\n",
    "# cim.to_excel(\"cim.xlsx\")"
   ]
  },
  {
   "cell_type": "code",
   "execution_count": 208,
   "id": "e92980b7",
   "metadata": {},
   "outputs": [],
   "source": [
    "# # output test row\n",
    "# s = pd.Series(isin_matrix.loc[5],name=\"isin_matrix\").to_frame()\n",
    "# s[\"ffit\"] = pd.Series(ffit.loc[5],name=\"ffit\")\n",
    "# s[\"pit_chaining\"] = pd.Series(pit_chaining.loc[4],name=\"pit_chaining\")\n",
    "# s[\"qit\"] = pd.Series(qit.loc[5],name=\"qit\")\n",
    "# s.to_excel(\"s.xlsx\")"
   ]
  },
  {
   "cell_type": "markdown",
   "id": "04105a04",
   "metadata": {},
   "source": [
    "# Check deviation"
   ]
  },
  {
   "cell_type": "code",
   "execution_count": 209,
   "id": "5852b1cf",
   "metadata": {},
   "outputs": [],
   "source": [
    "daxk[\"deviation_loop\"] = daxk[\"daxk_loop\"]-daxk[\"daxk\"]"
   ]
  },
  {
   "cell_type": "code",
   "execution_count": 210,
   "id": "cae7ba9b",
   "metadata": {},
   "outputs": [
    {
     "data": {
      "text/plain": [
       "0.015299751165912312"
      ]
     },
     "execution_count": 210,
     "metadata": {},
     "output_type": "execute_result"
    }
   ],
   "source": [
    "abs(daxk[\"deviation_loop\"]).max()"
   ]
  },
  {
   "cell_type": "code",
   "execution_count": 211,
   "id": "7c578dfe",
   "metadata": {},
   "outputs": [
    {
     "data": {
      "text/plain": [
       "0.0027891787448595146"
      ]
     },
     "execution_count": 211,
     "metadata": {},
     "output_type": "execute_result"
    }
   ],
   "source": [
    "abs(daxk[\"deviation_loop\"]).mean()"
   ]
  },
  {
   "cell_type": "code",
   "execution_count": 212,
   "id": "259a9596",
   "metadata": {},
   "outputs": [],
   "source": [
    "daxk[\"kt_deviation_loop\"] = daxk[\"kt_loop\"]-daxk[\"kt\"]"
   ]
  },
  {
   "cell_type": "code",
   "execution_count": 213,
   "id": "5f0793c2",
   "metadata": {},
   "outputs": [
    {
     "data": {
      "text/plain": [
       "0       0.00000000\n",
       "1       0.00000000\n",
       "2       0.00000000\n",
       "3       0.00000000\n",
       "4       0.00000000\n",
       "           ...    \n",
       "1263    0.00000016\n",
       "1264    0.00000016\n",
       "1265    0.00000016\n",
       "1266   -0.00011274\n",
       "1267   -0.00011274\n",
       "Name: kt_deviation_loop, Length: 1268, dtype: float64"
      ]
     },
     "execution_count": 213,
     "metadata": {},
     "output_type": "execute_result"
    }
   ],
   "source": [
    "daxk[\"kt_deviation_loop\"]"
   ]
  },
  {
   "cell_type": "markdown",
   "id": "c56e1649",
   "metadata": {},
   "source": [
    "## Save to file"
   ]
  },
  {
   "cell_type": "code",
   "execution_count": 214,
   "id": "e3eeab34",
   "metadata": {},
   "outputs": [],
   "source": [
    "# set index\n",
    "daxk.set_index(daxk_tw.index.strftime('%Y-%m-%d'), inplace=True)"
   ]
  },
  {
   "cell_type": "code",
   "execution_count": 215,
   "id": "baf92356",
   "metadata": {},
   "outputs": [],
   "source": [
    "daxk.to_excel(\"daxk_tw.xlsx\")"
   ]
  },
  {
   "cell_type": "code",
   "execution_count": null,
   "id": "8135a569",
   "metadata": {},
   "outputs": [],
   "source": []
  }
 ],
 "metadata": {
  "kernelspec": {
   "display_name": "Python 3",
   "language": "python",
   "name": "python3"
  },
  "language_info": {
   "codemirror_mode": {
    "name": "ipython",
    "version": 3
   },
   "file_extension": ".py",
   "mimetype": "text/x-python",
   "name": "python",
   "nbconvert_exporter": "python",
   "pygments_lexer": "ipython3",
   "version": "3.8.3"
  }
 },
 "nbformat": 4,
 "nbformat_minor": 5
}
